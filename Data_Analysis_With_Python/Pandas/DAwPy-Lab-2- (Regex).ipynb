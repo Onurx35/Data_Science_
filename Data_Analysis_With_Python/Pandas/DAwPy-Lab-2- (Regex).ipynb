{
 "cells": [
  {
   "cell_type": "code",
   "execution_count": 1,
   "id": "da0e1625",
   "metadata": {},
   "outputs": [],
   "source": [
    "import re"
   ]
  },
  {
   "cell_type": "code",
   "execution_count": 3,
   "id": "760f4480",
   "metadata": {},
   "outputs": [
    {
     "data": {
      "text/plain": [
       "['4', '0']"
      ]
     },
     "execution_count": 3,
     "metadata": {},
     "output_type": "execute_result"
    }
   ],
   "source": [
    "pattern = \"\\d\"   # rakamları bul\n",
    "\n",
    "re.findall(pattern, \"benim yaşım 40'tır\")"
   ]
  },
  {
   "cell_type": "code",
   "execution_count": 5,
   "id": "9035120f",
   "metadata": {},
   "outputs": [
    {
     "data": {
      "text/plain": [
       "[' ahmet']"
      ]
     },
     "execution_count": 5,
     "metadata": {},
     "output_type": "execute_result"
    }
   ],
   "source": [
    "pattern = \"(?<=isim:)\\s?[a-z]+\"   # isim ve : görünce dur. sağındaki digitleri al\n",
    "\n",
    "re.findall(pattern, \"benim yaşım 40'tır. isim: ahmet\")"
   ]
  },
  {
   "cell_type": "code",
   "execution_count": null,
   "id": "87ad361e",
   "metadata": {},
   "outputs": [],
   "source": []
  }
 ],
 "metadata": {
  "kernelspec": {
   "display_name": "Python 3",
   "language": "python",
   "name": "python3"
  },
  "language_info": {
   "codemirror_mode": {
    "name": "ipython",
    "version": 3
   },
   "file_extension": ".py",
   "mimetype": "text/x-python",
   "name": "python",
   "nbconvert_exporter": "python",
   "pygments_lexer": "ipython3",
   "version": "3.8.8"
  }
 },
 "nbformat": 4,
 "nbformat_minor": 5
}

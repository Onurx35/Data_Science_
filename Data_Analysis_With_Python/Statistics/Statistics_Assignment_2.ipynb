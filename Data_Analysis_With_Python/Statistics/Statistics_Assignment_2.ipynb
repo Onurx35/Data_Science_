{
 "cells": [
  {
   "cell_type": "markdown",
   "metadata": {
    "id": "K7S4cEyZLTp7"
   },
   "source": [
    "## Descriptive Statistics"
   ]
  },
  {
   "cell_type": "code",
   "execution_count": null,
   "metadata": {
    "id": "CCZJzVnVT8bw"
   },
   "outputs": [],
   "source": []
  },
  {
   "cell_type": "markdown",
   "metadata": {
    "id": "vZRYVyc8H7hi"
   },
   "source": [
    " Import **NumPy**, **SciPy**, and **Pandas**"
   ]
  },
  {
   "cell_type": "code",
   "execution_count": 1,
   "metadata": {
    "id": "7ShN0klrHIk3"
   },
   "outputs": [],
   "source": [
    "import numpy as np\n",
    "import pandas as pd\n",
    "from scipy import stats"
   ]
  },
  {
   "cell_type": "markdown",
   "metadata": {
    "id": "_SaQURIqIA6d"
   },
   "source": [
    " Randomly generate 1,000 samples from the normal distribution using `np.random.normal()`(mean = 100, standard deviation = 15)"
   ]
  },
  {
   "cell_type": "code",
   "execution_count": 8,
   "metadata": {
    "id": "Jyw_FMX0IRkm"
   },
   "outputs": [
    {
     "data": {
      "text/plain": [
       "array([[106.89604222,  70.89877698, 118.17292573, 106.32157907,\n",
       "        120.73441402,  64.82146314,  79.68747689,  91.97300578,\n",
       "        112.07848833,  90.5677615 ],\n",
       "       [ 89.29940426,  62.41894124,  81.24277517, 108.36839061,\n",
       "         86.70629766,  68.2492337 , 100.78044303,  95.87888804,\n",
       "        134.50665085,  99.70743586],\n",
       "       [118.33502917, 111.66470374, 103.96558951, 132.65178621,\n",
       "        121.76545133,  95.27461086, 119.0388761 , 103.74656107,\n",
       "         89.94256599, 120.01196075],\n",
       "       [ 99.79557151,  88.33244705, 110.12614491,  97.77647563,\n",
       "        112.54395135,  93.57222185,  88.95376708, 105.51555326,\n",
       "         62.65043786, 105.04674743],\n",
       "       [ 94.75421618,  84.7304507 , 112.33530462, 130.55983927,\n",
       "        102.37067499, 112.73347857, 103.96505093, 110.99683277,\n",
       "        109.36779185, 115.67626888],\n",
       "       [ 96.79385407,  85.12265182, 103.37215461,  83.37570609,\n",
       "         95.78092462, 104.02571187, 105.42611494, 106.37314827,\n",
       "         88.13391428, 121.31074326],\n",
       "       [102.60732093,  65.54711557, 105.16461923, 103.09249787,\n",
       "        115.62124035, 109.06152809,  95.5747952 ,  97.24505064,\n",
       "         98.8580532 ,  98.89594472],\n",
       "       [ 91.73911066, 118.29067249,  90.80838288, 125.94691145,\n",
       "         98.85244879,  98.63741655, 107.36472345,  98.88752051,\n",
       "        106.76795207,  95.74056911],\n",
       "       [ 87.67932665,  77.62169779, 109.0479511 ,  89.74764225,\n",
       "         89.48876773, 107.31859362,  95.68518424,  91.68080049,\n",
       "        107.88630096,  83.08344562],\n",
       "       [ 75.28035153,  89.72012115,  57.72446332,  97.25196888,\n",
       "        105.0898241 ,  80.70732758, 107.47525821,  90.10385496,\n",
       "         97.15868404,  93.54865391]])"
      ]
     },
     "execution_count": 8,
     "metadata": {},
     "output_type": "execute_result"
    }
   ],
   "source": [
    "samples = np.random.normal(loc=100, scale=15, size=(10,10))\n",
    "\n",
    "samples"
   ]
  },
  {
   "cell_type": "markdown",
   "metadata": {
    "id": "CDF8m3a4IYOC"
   },
   "source": [
    "Compute the **mean**, **median**, and **mode**"
   ]
  },
  {
   "cell_type": "code",
   "execution_count": 12,
   "metadata": {
    "id": "ZKbeqxaKIoNs"
   },
   "outputs": [
    {
     "name": "stdout",
     "output_type": "stream",
     "text": [
      "mean is : 98.95229771256385, \n",
      "median is : 98.89173261502361, \n",
      "mode is : ModeResult(mode=array([[75.28035153, 62.41894124, 57.72446332, 83.37570609, 86.70629766,\n",
      "        64.82146314, 79.68747689, 90.10385496, 62.65043786, 83.08344562]]), count=array([[1, 1, 1, 1, 1, 1, 1, 1, 1, 1]]))\n"
     ]
    }
   ],
   "source": [
    "mean = np.mean(samples)\n",
    "median = np.median(samples)\n",
    "mode = stats.mode(samples)\n",
    "\n",
    "print(f\"mean is : {mean}, \\nmedian is : {median}, \\nmode is : {mode}\")"
   ]
  },
  {
   "cell_type": "markdown",
   "metadata": {
    "id": "skT8m39XI60w"
   },
   "source": [
    "Compute the **min**, **max**, **Q1**, **Q3**, and **interquartile range**"
   ]
  },
  {
   "cell_type": "code",
   "execution_count": 14,
   "metadata": {
    "id": "VaiDphm8It0O"
   },
   "outputs": [
    {
     "name": "stdout",
     "output_type": "stream",
     "text": [
      "min : 57.72446331519604 \n",
      "max : 134.50665085331272 \n",
      "q1 : 58.8863466020526 \n",
      "q3 : 61.21011317576573 \n",
      "iqr : 2.3237665737131294\n"
     ]
    }
   ],
   "source": [
    "min_samp = np.min(samples)\n",
    "max_samp = np.max(samples)\n",
    "q1 = np.percentile(samples, 0.25)\n",
    "q3 = np.percentile(samples, 0.75)\n",
    "iqr = q3 - q1\n",
    "\n",
    "print(f\"min : {min_samp} \\nmax : {max_samp} \\nq1 : {q1} \\nq3 : {q3} \\niqr : {iqr}\")"
   ]
  },
  {
   "cell_type": "markdown",
   "metadata": {
    "id": "m53Dv3n5JHQi"
   },
   "source": [
    "Compute the **variance** and **standard deviation**"
   ]
  },
  {
   "cell_type": "code",
   "execution_count": 18,
   "metadata": {
    "id": "6JFaAYdrJbeN"
   },
   "outputs": [
    {
     "name": "stdout",
     "output_type": "stream",
     "text": [
      "variance : 234.4462156599211 \n",
      "std_dev : 15.31163660945234\n"
     ]
    }
   ],
   "source": [
    "variance = np.var(samples)\n",
    "std_dev = np.std(samples)\n",
    "\n",
    "print(f\"variance : {variance} \\nstd_dev : {std_dev}\")"
   ]
  },
  {
   "cell_type": "markdown",
   "metadata": {
    "id": "5eup4hI1JzqX"
   },
   "source": [
    "Compute the **skewness** and **kurtosis**"
   ]
  },
  {
   "cell_type": "code",
   "execution_count": 19,
   "metadata": {
    "id": "YO3obyDnJ3_D"
   },
   "outputs": [
    {
     "name": "stdout",
     "output_type": "stream",
     "text": [
      "skewness: [ 0.12669944  0.57974767 -1.30971886  0.2980532  -0.01278278 -0.64406664\n",
      " -0.28549137  0.22685581 -0.30683337  0.26255485] \n",
      "kurtosis: [-0.04275775 -0.62750287  0.76846419 -1.17339015 -1.30036525 -0.9539645\n",
      " -0.23287156 -1.24165241  0.44556605 -1.13534686]\n"
     ]
    }
   ],
   "source": [
    "skewness = stats.skew(samples)\n",
    "kurtosis = stats.kurtosis(samples)\n",
    "\n",
    "print(f\"skewness: {skewness} \\nkurtosis: {kurtosis}\")"
   ]
  },
  {
   "cell_type": "markdown",
   "metadata": {
    "id": "a5UNc8PUKnbU"
   },
   "source": [
    "## NumPy Correlation Calculation"
   ]
  },
  {
   "cell_type": "markdown",
   "metadata": {
    "id": "cLiqxE1CMNTg"
   },
   "source": [
    "Create an array x of integers between 10 (inclusive) and 20 (exclusive). Use `np.arange()`"
   ]
  },
  {
   "cell_type": "code",
   "execution_count": 20,
   "metadata": {
    "id": "5LAaQ6w5L-2L"
   },
   "outputs": [
    {
     "data": {
      "text/plain": [
       "array([[ 0.87334156,  0.16230892,  0.51669036,  0.82448869, -0.72021676,\n",
       "         2.3010147 ,  0.09263645, -0.66004451,  1.94313007,  1.07642101,\n",
       "         2.34523642, -0.48970409,  0.82822158,  1.20900405, -0.68233651,\n",
       "        -1.40215264, -0.24183127,  0.11526879, -0.74304192, -0.44427391],\n",
       "       [-0.48713292, -0.29950733,  0.53815012,  1.22050525, -0.03384957,\n",
       "        -0.37416805,  0.69563501, -1.47210311,  1.36210031, -1.15020061,\n",
       "        -0.27210306,  0.23918726, -0.45027641, -1.27585571,  0.58173659,\n",
       "         0.98330309,  0.51814624,  1.17002317, -0.24432588, -1.03450101],\n",
       "       [ 0.18730049,  0.98309934, -0.57870583, -0.04231255,  1.65824769,\n",
       "         0.35895004, -0.22263061,  2.8187635 , -0.08780308,  0.76155302,\n",
       "         0.89972106,  0.0800942 , -3.32705079, -1.14145492, -1.25069508,\n",
       "         1.09465029,  0.49518412, -0.35201788, -0.18075482, -2.07492325],\n",
       "       [ 0.54954077, -0.32705097,  0.33381083, -1.07516329, -0.50310368,\n",
       "         0.33236543, -0.01788588, -0.3768305 , -0.77418525,  1.11172052,\n",
       "         0.02141168, -0.54003014,  1.4435005 , -0.30622612,  0.16773897,\n",
       "         0.43790179, -0.59903392, -2.670933  , -0.14764634,  0.93259045],\n",
       "       [ 1.11766608, -0.45589191,  1.576231  , -0.49815285,  1.31779766,\n",
       "         1.13075598,  1.63827176, -1.29114786, -1.42269857, -0.08358222,\n",
       "        -0.52882945,  0.0879897 , -0.55667806,  0.13528353, -1.68660622,\n",
       "         1.3379589 ,  0.83177567,  1.36499046, -1.19455478,  0.22917323],\n",
       "       [-0.28043337, -1.47992987,  1.3201408 ,  0.47047037,  0.52225665,\n",
       "         0.25701203, -0.22835399,  0.00648626,  0.01743933,  0.76497988,\n",
       "         0.56779247, -0.20394361, -0.50775823,  0.15850354,  1.69702416,\n",
       "        -0.37289445, -1.09484332, -0.36842039,  0.35243116, -1.1620174 ],\n",
       "       [ 0.05709161, -1.23067851, -1.44316413, -0.73580567, -0.13271701,\n",
       "         0.28385709,  0.69509612,  0.32585494,  0.86185755,  1.78250964,\n",
       "        -0.21585918, -0.49220026, -0.67655915, -0.32428044,  0.27832541,\n",
       "         1.32471164,  0.74418408,  0.16527923, -1.43871189,  1.01080403],\n",
       "       [ 0.47424237, -1.65033934,  0.03425731, -0.30323968, -0.04091704,\n",
       "        -1.08907876, -1.10510181, -1.65473819, -0.04694416,  0.88584499,\n",
       "        -0.88565616,  1.99870252, -0.0896485 , -0.00714334,  0.82287065,\n",
       "        -1.27966158, -1.00358702,  0.54030814,  0.02277719, -0.0750089 ],\n",
       "       [-1.19563044,  0.07978921, -2.3370084 ,  0.76439973, -0.13075356,\n",
       "        -0.56029961, -0.57993774, -0.0198491 , -0.70641326, -0.29811142,\n",
       "         1.1704997 , -1.36861355,  0.78434655,  2.45042071, -1.97491089,\n",
       "        -0.12435079, -2.15845532,  2.67672219,  0.23818807,  0.53704015],\n",
       "       [-0.89666095, -0.61453609,  0.25028276, -1.05139254,  1.87314028,\n",
       "         1.70958715,  1.67595244, -1.73219811,  0.66481754, -0.41085331,\n",
       "         1.11494062, -0.98070748, -0.32240675, -0.31042491,  2.11883283,\n",
       "        -0.38614227, -1.58156037,  0.9746315 ,  0.38046846, -0.56930871]])"
      ]
     },
     "execution_count": 20,
     "metadata": {},
     "output_type": "execute_result"
    }
   ],
   "source": [
    "x = np.random.randn(10, 20)\n",
    "x"
   ]
  },
  {
   "cell_type": "markdown",
   "metadata": {
    "id": "qyCIaukNMZPf"
   },
   "source": [
    "Then use `np.array()` to create a second array y containing 10 arbitrary integers."
   ]
  },
  {
   "cell_type": "code",
   "execution_count": 22,
   "metadata": {
    "id": "p27eW__gNMdh"
   },
   "outputs": [
    {
     "data": {
      "text/plain": [
       "array([-1.07657113,  0.41382234, -0.57061143,  1.10118075,  0.24549596,\n",
       "        0.15678382,  0.94883192, -0.51894945,  0.92619862, -0.51671094])"
      ]
     },
     "execution_count": 22,
     "metadata": {},
     "output_type": "execute_result"
    }
   ],
   "source": [
    "y = np.random.randn(10)\n",
    "\n",
    "y"
   ]
  },
  {
   "cell_type": "markdown",
   "metadata": {
    "id": "Kh_VeKwINSqS"
   },
   "source": [
    "Once you have two arrays of the same length, you can compute the **correlation coefficient** between x and y"
   ]
  },
  {
   "cell_type": "code",
   "execution_count": null,
   "metadata": {
    "id": "yrtC6rPkNSDC"
   },
   "outputs": [],
   "source": [
    "r = "
   ]
  },
  {
   "cell_type": "markdown",
   "metadata": {
    "id": "vXieLjYiNtPi"
   },
   "source": [
    "## Pandas Correlation Calculation"
   ]
  },
  {
   "cell_type": "markdown",
   "metadata": {
    "id": "z56t0k0qNvkr"
   },
   "source": [
    "Run the code below"
   ]
  },
  {
   "cell_type": "code",
   "execution_count": null,
   "metadata": {
    "id": "9AVBMJCyNuwb"
   },
   "outputs": [],
   "source": [
    "x = pd.Series(range(10, 20))\n",
    "y = pd.Series([2, 1, 4, 5, 8, 12, 18, 25, 96, 48])"
   ]
  },
  {
   "cell_type": "markdown",
   "metadata": {
    "id": "ZajVXYe2OCih"
   },
   "source": [
    "Call the relevant method  to calculate Pearson's r correlation."
   ]
  },
  {
   "cell_type": "code",
   "execution_count": null,
   "metadata": {
    "id": "Ak_rkzbLOafj"
   },
   "outputs": [],
   "source": [
    "r ="
   ]
  },
  {
   "cell_type": "markdown",
   "metadata": {
    "id": "1CygSbnROb9V"
   },
   "source": [
    "OPTIONAL. Call the relevant method to calculate Spearman's rho correlation."
   ]
  },
  {
   "cell_type": "code",
   "execution_count": null,
   "metadata": {
    "id": "xp_QkXwmOlYY"
   },
   "outputs": [],
   "source": [
    "rho ="
   ]
  },
  {
   "cell_type": "markdown",
   "metadata": {
    "id": "we7pg7kdOo7y"
   },
   "source": [
    "## Seaborn Dataset Tips"
   ]
  },
  {
   "cell_type": "markdown",
   "metadata": {
    "id": "VlzgFKN7OvqX"
   },
   "source": [
    "Import Seaborn Library"
   ]
  },
  {
   "cell_type": "code",
   "execution_count": 6,
   "metadata": {
    "id": "t-49JRRqO4pw"
   },
   "outputs": [],
   "source": [
    "import seaborn as sns"
   ]
  },
  {
   "cell_type": "markdown",
   "metadata": {
    "id": "0INVBB4tO4y4"
   },
   "source": [
    "Load \"tips\" dataset from Seaborn"
   ]
  },
  {
   "cell_type": "code",
   "execution_count": 7,
   "metadata": {
    "id": "kieLvcM1PBv7"
   },
   "outputs": [],
   "source": [
    "tips = sns.load_dataset(\"tips\")"
   ]
  },
  {
   "cell_type": "markdown",
   "metadata": {
    "id": "o2ISqVQrPh5S"
   },
   "source": [
    "Generate descriptive statistics include those that summarize the central tendency, dispersion"
   ]
  },
  {
   "cell_type": "code",
   "execution_count": null,
   "metadata": {
    "id": "FyFvmdbJPVg6"
   },
   "outputs": [],
   "source": []
  },
  {
   "cell_type": "markdown",
   "metadata": {
    "id": "3yCRK4VJPzRo"
   },
   "source": [
    "Call the relevant method to calculate pairwise Pearson's r correlation of columns"
   ]
  },
  {
   "cell_type": "code",
   "execution_count": null,
   "metadata": {
    "id": "qwvGzDU8PGnM"
   },
   "outputs": [],
   "source": []
  }
 ],
 "metadata": {
  "colab": {
   "collapsed_sections": [],
   "name": "Statistics Assignment-2.ipynb",
   "provenance": []
  },
  "kernelspec": {
   "display_name": "Python 3",
   "language": "python",
   "name": "python3"
  },
  "language_info": {
   "codemirror_mode": {
    "name": "ipython",
    "version": 3
   },
   "file_extension": ".py",
   "mimetype": "text/x-python",
   "name": "python",
   "nbconvert_exporter": "python",
   "pygments_lexer": "ipython3",
   "version": "3.8.8"
  }
 },
 "nbformat": 4,
 "nbformat_minor": 1
}

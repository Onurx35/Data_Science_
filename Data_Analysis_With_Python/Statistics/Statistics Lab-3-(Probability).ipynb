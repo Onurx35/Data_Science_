{
 "cells": [
  {
   "cell_type": "markdown",
   "id": "b46df1e7",
   "metadata": {},
   "source": [
    "## What is the probability of rolling a total of 4 with 2 dice?"
   ]
  },
  {
   "cell_type": "code",
   "execution_count": 3,
   "id": "f58dd0e3",
   "metadata": {},
   "outputs": [
    {
     "data": {
      "text/plain": [
       "{(1, 1): 2,\n",
       " (1, 2): 3,\n",
       " (1, 3): 4,\n",
       " (1, 4): 5,\n",
       " (1, 5): 6,\n",
       " (1, 6): 7,\n",
       " (2, 1): 3,\n",
       " (2, 2): 4,\n",
       " (2, 3): 5,\n",
       " (2, 4): 6,\n",
       " (2, 5): 7,\n",
       " (2, 6): 8,\n",
       " (3, 1): 4,\n",
       " (3, 2): 5,\n",
       " (3, 3): 6,\n",
       " (3, 4): 7,\n",
       " (3, 5): 8,\n",
       " (3, 6): 9,\n",
       " (4, 1): 5,\n",
       " (4, 2): 6,\n",
       " (4, 3): 7,\n",
       " (4, 4): 8,\n",
       " (4, 5): 9,\n",
       " (4, 6): 10,\n",
       " (5, 1): 6,\n",
       " (5, 2): 7,\n",
       " (5, 3): 8,\n",
       " (5, 4): 9,\n",
       " (5, 5): 10,\n",
       " (5, 6): 11,\n",
       " (6, 1): 7,\n",
       " (6, 2): 8,\n",
       " (6, 3): 9,\n",
       " (6, 4): 10,\n",
       " (6, 5): 11,\n",
       " (6, 6): 12}"
      ]
     },
     "execution_count": 3,
     "metadata": {},
     "output_type": "execute_result"
    }
   ],
   "source": [
    "d = {(i,j):i+j for i in range(1,7) for j in range(1,7)} # 2 zar attığımızda toplamının 4 olma ihtimali\n",
    "d  # önce tüm ihtimalleri yazdırdık"
   ]
  },
  {
   "cell_type": "code",
   "execution_count": 6,
   "id": "ae90b190",
   "metadata": {},
   "outputs": [
    {
     "data": {
      "text/plain": [
       "[(1, 3), (2, 2), (3, 1)]"
      ]
     },
     "execution_count": 6,
     "metadata": {},
     "output_type": "execute_result"
    }
   ],
   "source": [
    "search_sum = 4  # toplamı 4 olanları bul. buraya kaç yazarsak onu hesaplar\n",
    "l = []\n",
    "for pairs, sums in d.items():\n",
    "    if sums == 4:\n",
    "        l.append(pairs)\n",
    "\n",
    "l"
   ]
  },
  {
   "cell_type": "code",
   "execution_count": 27,
   "id": "90c7057d",
   "metadata": {},
   "outputs": [
    {
     "data": {
      "text/plain": [
       "0.08333333333333333"
      ]
     },
     "execution_count": 27,
     "metadata": {},
     "output_type": "execute_result"
    }
   ],
   "source": [
    "p = len(l)/len(d)  # 2 zar attığımda bu 2 zarın 4 olma ihtimalini hesapladık\n",
    "p  # teorik olasılık"
   ]
  },
  {
   "cell_type": "markdown",
   "id": "ac0f8db2",
   "metadata": {},
   "source": [
    "## Law of Large Numbers (Büyük sayılar kanunu)\n",
    "We can simulate a large number of values for X"
   ]
  },
  {
   "cell_type": "code",
   "execution_count": 8,
   "id": "79f8a220",
   "metadata": {},
   "outputs": [],
   "source": [
    "import numpy as np\n",
    "import pandas as pd"
   ]
  },
  {
   "cell_type": "code",
   "execution_count": 19,
   "id": "4bfca54c",
   "metadata": {},
   "outputs": [],
   "source": [
    "n = 100"
   ]
  },
  {
   "cell_type": "code",
   "execution_count": 20,
   "id": "4d0b53b0",
   "metadata": {},
   "outputs": [],
   "source": [
    "np.random.seed(56)  # rastgele rakamlar sabitledik"
   ]
  },
  {
   "cell_type": "code",
   "execution_count": 21,
   "id": "67292794",
   "metadata": {},
   "outputs": [
    {
     "data": {
      "text/plain": [
       "array([6, 5, 1, 3, 4, 3, 2, 4, 5, 2, 3, 2, 1, 5, 3, 4, 4, 1, 6, 2, 2, 3,\n",
       "       5, 6, 6, 3, 5, 2, 4, 6, 2, 3, 3, 2, 1, 6, 5, 3, 5, 1, 1, 6, 5, 1,\n",
       "       2, 4, 2, 6, 5, 4, 2, 6, 3, 3, 2, 4, 1, 1, 4, 3, 1, 4, 1, 6, 1, 1,\n",
       "       1, 5, 3, 6, 1, 2, 5, 4, 3, 6, 1, 3, 3, 4, 2, 4, 4, 6, 1, 4, 5, 1,\n",
       "       3, 6, 1, 5, 1, 4, 5, 3, 3, 5, 6, 1])"
      ]
     },
     "execution_count": 21,
     "metadata": {},
     "output_type": "execute_result"
    }
   ],
   "source": [
    "np.random.seed(56)  # rastgele rakamlar sabitledik\n",
    "\n",
    "die_1 = np.random.randint(1,7, size=n)\n",
    "die_1"
   ]
  },
  {
   "cell_type": "code",
   "execution_count": 22,
   "id": "50207f85",
   "metadata": {},
   "outputs": [
    {
     "data": {
      "text/plain": [
       "array([5, 5, 4, 3, 6, 3, 6, 4, 3, 6, 1, 6, 6, 6, 4, 4, 3, 3, 1, 3, 3, 3,\n",
       "       1, 4, 5, 1, 1, 2, 5, 3, 2, 1, 5, 5, 3, 3, 4, 1, 2, 5, 3, 3, 1, 4,\n",
       "       1, 1, 3, 6, 2, 3, 5, 3, 6, 5, 4, 5, 5, 2, 6, 4, 4, 2, 3, 3, 2, 5,\n",
       "       3, 3, 4, 3, 5, 3, 5, 5, 4, 5, 1, 3, 4, 4, 1, 6, 1, 1, 6, 5, 1, 2,\n",
       "       6, 6, 5, 5, 3, 5, 5, 3, 4, 4, 3, 2])"
      ]
     },
     "execution_count": 22,
     "metadata": {},
     "output_type": "execute_result"
    }
   ],
   "source": [
    "np.random.seed(66)  # rastgele rakamlar sabitledik\n",
    "\n",
    "die_2 = np.random.randint(1,7, size=n)\n",
    "die_2"
   ]
  },
  {
   "cell_type": "code",
   "execution_count": 23,
   "id": "35406920",
   "metadata": {},
   "outputs": [
    {
     "data": {
      "text/plain": [
       "array([11, 10,  5,  6, 10,  6,  8,  8,  8,  8,  4,  8,  7, 11,  7,  8,  7,\n",
       "        4,  7,  5,  5,  6,  6, 10, 11,  4,  6,  4,  9,  9,  4,  4,  8,  7,\n",
       "        4,  9,  9,  4,  7,  6,  4,  9,  6,  5,  3,  5,  5, 12,  7,  7,  7,\n",
       "        9,  9,  8,  6,  9,  6,  3, 10,  7,  5,  6,  4,  9,  3,  6,  4,  8,\n",
       "        7,  9,  6,  5, 10,  9,  7, 11,  2,  6,  7,  8,  3, 10,  5,  7,  7,\n",
       "        9,  6,  3,  9, 12,  6, 10,  4,  9, 10,  6,  7,  9,  9,  3])"
      ]
     },
     "execution_count": 23,
     "metadata": {},
     "output_type": "execute_result"
    }
   ],
   "source": [
    "X = die_1 + die_2\n",
    "X"
   ]
  },
  {
   "cell_type": "code",
   "execution_count": 25,
   "id": "cc410ea3",
   "metadata": {},
   "outputs": [
    {
     "data": {
      "text/html": [
       "<div>\n",
       "<style scoped>\n",
       "    .dataframe tbody tr th:only-of-type {\n",
       "        vertical-align: middle;\n",
       "    }\n",
       "\n",
       "    .dataframe tbody tr th {\n",
       "        vertical-align: top;\n",
       "    }\n",
       "\n",
       "    .dataframe thead th {\n",
       "        text-align: right;\n",
       "    }\n",
       "</style>\n",
       "<table border=\"1\" class=\"dataframe\">\n",
       "  <thead>\n",
       "    <tr style=\"text-align: right;\">\n",
       "      <th></th>\n",
       "      <th>die_1</th>\n",
       "      <th>die_2</th>\n",
       "      <th>X</th>\n",
       "    </tr>\n",
       "  </thead>\n",
       "  <tbody>\n",
       "    <tr>\n",
       "      <th>0</th>\n",
       "      <td>6</td>\n",
       "      <td>5</td>\n",
       "      <td>11</td>\n",
       "    </tr>\n",
       "    <tr>\n",
       "      <th>1</th>\n",
       "      <td>5</td>\n",
       "      <td>5</td>\n",
       "      <td>10</td>\n",
       "    </tr>\n",
       "    <tr>\n",
       "      <th>2</th>\n",
       "      <td>1</td>\n",
       "      <td>4</td>\n",
       "      <td>5</td>\n",
       "    </tr>\n",
       "    <tr>\n",
       "      <th>3</th>\n",
       "      <td>3</td>\n",
       "      <td>3</td>\n",
       "      <td>6</td>\n",
       "    </tr>\n",
       "    <tr>\n",
       "      <th>4</th>\n",
       "      <td>4</td>\n",
       "      <td>6</td>\n",
       "      <td>10</td>\n",
       "    </tr>\n",
       "  </tbody>\n",
       "</table>\n",
       "</div>"
      ],
      "text/plain": [
       "   die_1  die_2   X\n",
       "0      6      5  11\n",
       "1      5      5  10\n",
       "2      1      4   5\n",
       "3      3      3   6\n",
       "4      4      6  10"
      ]
     },
     "execution_count": 25,
     "metadata": {},
     "output_type": "execute_result"
    }
   ],
   "source": [
    "df = pd.DataFrame({\"die_1\":die_1, \"die_2\":die_2, \"X\":X})\n",
    "df.head()"
   ]
  },
  {
   "cell_type": "code",
   "execution_count": 28,
   "id": "456df0c4",
   "metadata": {},
   "outputs": [
    {
     "data": {
      "text/plain": [
       "12"
      ]
     },
     "execution_count": 28,
     "metadata": {},
     "output_type": "execute_result"
    }
   ],
   "source": [
    "total_four = (X==4).sum()\n",
    "total_four"
   ]
  },
  {
   "cell_type": "code",
   "execution_count": 31,
   "id": "0fbdc6cd",
   "metadata": {},
   "outputs": [
    {
     "data": {
      "text/plain": [
       "0.12"
      ]
     },
     "execution_count": 31,
     "metadata": {},
     "output_type": "execute_result"
    }
   ],
   "source": [
    "# olasılığı hesaplayalım.\n",
    "p = total_four / n\n",
    "\n",
    "p  # olasılığın yukarda hesapladığımız teorik hesaplamadan farklı olduğunu gördük.\n",
    "   # deneme sayımız az olduğu için teorik sonuca yaklaşamadık."
   ]
  },
  {
   "cell_type": "markdown",
   "id": "d3a35729",
   "metadata": {},
   "source": [
    "### rakamlarımızı artırırsak teorik olasılığa yaklaşırız. Deneyelim.."
   ]
  },
  {
   "cell_type": "code",
   "execution_count": 33,
   "id": "6aeb2445",
   "metadata": {},
   "outputs": [],
   "source": [
    "n = 10000  # 100'den 10000'e çıkardık"
   ]
  },
  {
   "cell_type": "code",
   "execution_count": 34,
   "id": "f8a68724",
   "metadata": {},
   "outputs": [],
   "source": [
    "np.random.seed(56)  # aynı rakamlar"
   ]
  },
  {
   "cell_type": "code",
   "execution_count": 35,
   "id": "6e5af07a",
   "metadata": {},
   "outputs": [
    {
     "data": {
      "text/plain": [
       "array([6, 5, 1, ..., 3, 3, 4])"
      ]
     },
     "execution_count": 35,
     "metadata": {},
     "output_type": "execute_result"
    }
   ],
   "source": [
    "np.random.seed(56) \n",
    "\n",
    "die_1 = np.random.randint(1,7, size=n)\n",
    "die_1"
   ]
  },
  {
   "cell_type": "code",
   "execution_count": 36,
   "id": "b73e1904",
   "metadata": {},
   "outputs": [
    {
     "data": {
      "text/plain": [
       "array([5, 5, 4, ..., 5, 6, 1])"
      ]
     },
     "execution_count": 36,
     "metadata": {},
     "output_type": "execute_result"
    }
   ],
   "source": [
    "np.random.seed(66)  \n",
    "\n",
    "die_2 = np.random.randint(1,7, size=n)\n",
    "die_2"
   ]
  },
  {
   "cell_type": "code",
   "execution_count": 37,
   "id": "ed2199db",
   "metadata": {},
   "outputs": [
    {
     "data": {
      "text/plain": [
       "array([11, 10,  5, ...,  8,  9,  5])"
      ]
     },
     "execution_count": 37,
     "metadata": {},
     "output_type": "execute_result"
    }
   ],
   "source": [
    "X = die_1 + die_2\n",
    "X"
   ]
  },
  {
   "cell_type": "code",
   "execution_count": 38,
   "id": "d7205f89",
   "metadata": {},
   "outputs": [
    {
     "data": {
      "text/html": [
       "<div>\n",
       "<style scoped>\n",
       "    .dataframe tbody tr th:only-of-type {\n",
       "        vertical-align: middle;\n",
       "    }\n",
       "\n",
       "    .dataframe tbody tr th {\n",
       "        vertical-align: top;\n",
       "    }\n",
       "\n",
       "    .dataframe thead th {\n",
       "        text-align: right;\n",
       "    }\n",
       "</style>\n",
       "<table border=\"1\" class=\"dataframe\">\n",
       "  <thead>\n",
       "    <tr style=\"text-align: right;\">\n",
       "      <th></th>\n",
       "      <th>die_1</th>\n",
       "      <th>die_2</th>\n",
       "      <th>X</th>\n",
       "    </tr>\n",
       "  </thead>\n",
       "  <tbody>\n",
       "    <tr>\n",
       "      <th>0</th>\n",
       "      <td>6</td>\n",
       "      <td>5</td>\n",
       "      <td>11</td>\n",
       "    </tr>\n",
       "    <tr>\n",
       "      <th>1</th>\n",
       "      <td>5</td>\n",
       "      <td>5</td>\n",
       "      <td>10</td>\n",
       "    </tr>\n",
       "    <tr>\n",
       "      <th>2</th>\n",
       "      <td>1</td>\n",
       "      <td>4</td>\n",
       "      <td>5</td>\n",
       "    </tr>\n",
       "    <tr>\n",
       "      <th>3</th>\n",
       "      <td>3</td>\n",
       "      <td>3</td>\n",
       "      <td>6</td>\n",
       "    </tr>\n",
       "    <tr>\n",
       "      <th>4</th>\n",
       "      <td>4</td>\n",
       "      <td>6</td>\n",
       "      <td>10</td>\n",
       "    </tr>\n",
       "  </tbody>\n",
       "</table>\n",
       "</div>"
      ],
      "text/plain": [
       "   die_1  die_2   X\n",
       "0      6      5  11\n",
       "1      5      5  10\n",
       "2      1      4   5\n",
       "3      3      3   6\n",
       "4      4      6  10"
      ]
     },
     "execution_count": 38,
     "metadata": {},
     "output_type": "execute_result"
    }
   ],
   "source": [
    "df = pd.DataFrame({\"die_1\":die_1, \"die_2\":die_2, \"X\":X})\n",
    "df.head()"
   ]
  },
  {
   "cell_type": "code",
   "execution_count": 39,
   "id": "d0b98394",
   "metadata": {},
   "outputs": [
    {
     "data": {
      "text/plain": [
       "826"
      ]
     },
     "execution_count": 39,
     "metadata": {},
     "output_type": "execute_result"
    }
   ],
   "source": [
    "total_four = (X==4).sum()\n",
    "total_four"
   ]
  },
  {
   "cell_type": "code",
   "execution_count": 42,
   "id": "3a6993f1",
   "metadata": {},
   "outputs": [
    {
     "data": {
      "text/plain": [
       "0.0826"
      ]
     },
     "execution_count": 42,
     "metadata": {},
     "output_type": "execute_result"
    }
   ],
   "source": [
    "p = total_four / n\n",
    "p  # teorik olasılığa (0.07) yaklaştık"
   ]
  },
  {
   "cell_type": "code",
   "execution_count": 51,
   "id": "c4cce65a",
   "metadata": {},
   "outputs": [
    {
     "data": {
      "text/plain": [
       "7     1657\n",
       "8     1373\n",
       "6     1369\n",
       "9     1189\n",
       "5     1094\n",
       "10     854\n",
       "4      826\n",
       "3      558\n",
       "11     542\n",
       "2      282\n",
       "12     256\n",
       "Name: X, dtype: int64"
      ]
     },
     "execution_count": 51,
     "metadata": {},
     "output_type": "execute_result"
    }
   ],
   "source": [
    "freq = df.X.value_counts()  # dağılım\n",
    "\n",
    "freq"
   ]
  },
  {
   "cell_type": "code",
   "execution_count": 52,
   "id": "762b8cd6",
   "metadata": {},
   "outputs": [
    {
     "data": {
      "image/png": "[encoded data removed]",
      "text/plain": [
       "<Figure size 432x288 with 1 Axes>"
      ]
     },
     "metadata": {
      "needs_background": "light"
     },
     "output_type": "display_data"
    }
   ],
   "source": [
    "freq.sort_index().plot(kind=\"bar\", grid=True);  # dağılım grafiği"
   ]
  },
  {
   "cell_type": "code",
   "execution_count": 47,
   "id": "db446adf",
   "metadata": {},
   "outputs": [
    {
     "data": {
      "text/plain": [
       "7     0.1657\n",
       "8     0.1373\n",
       "6     0.1369\n",
       "9     0.1189\n",
       "5     0.1094\n",
       "10    0.0854\n",
       "4     0.0826\n",
       "3     0.0558\n",
       "11    0.0542\n",
       "2     0.0282\n",
       "12    0.0256\n",
       "Name: X, dtype: float64"
      ]
     },
     "execution_count": 47,
     "metadata": {},
     "output_type": "execute_result"
    }
   ],
   "source": [
    "prob = df.X.value_counts() / n  # olaslığını hesaplıyoruz\n",
    "prob"
   ]
  },
  {
   "cell_type": "code",
   "execution_count": 50,
   "id": "6154c609",
   "metadata": {},
   "outputs": [
    {
     "data": {
      "image/png": "[encoded data removed]",
      "text/plain": [
       "<Figure size 432x288 with 1 Axes>"
      ]
     },
     "metadata": {
      "needs_background": "light"
     },
     "output_type": "display_data"
    }
   ],
   "source": [
    "prob.sort_index().plot(kind=\"bar\", grid=True);  # olasılığın grafiği"
   ]
  },
  {
   "cell_type": "markdown",
   "id": "b1bb5f57",
   "metadata": {},
   "source": [
    "## What is the probability of rolling at least one 4 with 2 dice?"
   ]
  },
  {
   "cell_type": "markdown",
   "id": "daee8ecf",
   "metadata": {},
   "source": [
    "Zarlarınen az 1'inin 4 gelme olasılığı"
   ]
  },
  {
   "cell_type": "code",
   "execution_count": 57,
   "id": "8935ea96",
   "metadata": {},
   "outputs": [
    {
     "data": {
      "text/plain": [
       "{(1, 1): 2,\n",
       " (1, 2): 3,\n",
       " (1, 3): 4,\n",
       " (1, 4): 5,\n",
       " (1, 5): 6,\n",
       " (1, 6): 7,\n",
       " (2, 1): 3,\n",
       " (2, 2): 4,\n",
       " (2, 3): 5,\n",
       " (2, 4): 6,\n",
       " (2, 5): 7,\n",
       " (2, 6): 8,\n",
       " (3, 1): 4,\n",
       " (3, 2): 5,\n",
       " (3, 3): 6,\n",
       " (3, 4): 7,\n",
       " (3, 5): 8,\n",
       " (3, 6): 9,\n",
       " (4, 1): 5,\n",
       " (4, 2): 6,\n",
       " (4, 3): 7,\n",
       " (4, 4): 8,\n",
       " (4, 5): 9,\n",
       " (4, 6): 10,\n",
       " (5, 1): 6,\n",
       " (5, 2): 7,\n",
       " (5, 3): 8,\n",
       " (5, 4): 9,\n",
       " (5, 5): 10,\n",
       " (5, 6): 11,\n",
       " (6, 1): 7,\n",
       " (6, 2): 8,\n",
       " (6, 3): 9,\n",
       " (6, 4): 10,\n",
       " (6, 5): 11,\n",
       " (6, 6): 12}"
      ]
     },
     "execution_count": 57,
     "metadata": {},
     "output_type": "execute_result"
    }
   ],
   "source": [
    "d"
   ]
  },
  {
   "cell_type": "code",
   "execution_count": 58,
   "id": "2ecc3678",
   "metadata": {},
   "outputs": [
    {
     "data": {
      "text/plain": [
       "0.3055555555555556"
      ]
     },
     "execution_count": 58,
     "metadata": {},
     "output_type": "execute_result"
    }
   ],
   "source": [
    "11 / 36  # manuel olarak saydık"
   ]
  },
  {
   "cell_type": "code",
   "execution_count": 56,
   "id": "e0d1be0c",
   "metadata": {},
   "outputs": [
    {
     "data": {
      "text/plain": [
       "11"
      ]
     },
     "execution_count": 56,
     "metadata": {},
     "output_type": "execute_result"
    }
   ],
   "source": [
    "count = 0\n",
    "for i in d.keys():\n",
    "    if 4 in i:\n",
    "        count += 1\n",
    "\n",
    "count  # kodlama ile hesapladık"
   ]
  },
  {
   "cell_type": "code",
   "execution_count": 59,
   "id": "2b80d462",
   "metadata": {},
   "outputs": [
    {
     "data": {
      "text/plain": [
       "0.3055555555555556"
      ]
     },
     "execution_count": 59,
     "metadata": {},
     "output_type": "execute_result"
    }
   ],
   "source": [
    "count / len(d)  # olasılık"
   ]
  },
  {
   "cell_type": "markdown",
   "id": "4e7a0d4b",
   "metadata": {},
   "source": [
    "## Conditional Probability"
   ]
  },
  {
   "cell_type": "markdown",
   "id": "590ce90c",
   "metadata": {},
   "source": [
    "A restaurant noted what type of food its customers ordered last week. Here are the results:"
   ]
  },
  {
   "cell_type": "markdown",
   "id": "534707ba",
   "metadata": {},
   "source": [
    "Burger V Fries kümeleri\n",
    "\n",
    "burger = 0.7\n",
    "fries = 0.5\n",
    "kesişim = 0.4"
   ]
  },
  {
   "cell_type": "markdown",
   "id": "604a90d1",
   "metadata": {},
   "source": [
    "Find the probability that a randomly chosen customer ordered a burger given that they ordered fries."
   ]
  },
  {
   "cell_type": "markdown",
   "id": "28fccccd",
   "metadata": {},
   "source": [
    "P(B | F) = P(B n F) / P(F)"
   ]
  },
  {
   "cell_type": "code",
   "execution_count": 60,
   "id": "e846893d",
   "metadata": {},
   "outputs": [],
   "source": [
    "P_burger = 0.7"
   ]
  },
  {
   "cell_type": "code",
   "execution_count": 61,
   "id": "091167b4",
   "metadata": {},
   "outputs": [],
   "source": [
    "P_fries = 0.5"
   ]
  },
  {
   "cell_type": "code",
   "execution_count": 62,
   "id": "bb480d44",
   "metadata": {},
   "outputs": [],
   "source": [
    "P_burger_and_fries = 0.4"
   ]
  },
  {
   "cell_type": "code",
   "execution_count": 63,
   "id": "097e23ad",
   "metadata": {},
   "outputs": [
    {
     "data": {
      "text/plain": [
       "0.8"
      ]
     },
     "execution_count": 63,
     "metadata": {},
     "output_type": "execute_result"
    }
   ],
   "source": [
    "P_burger_given_fries = P_burger_and_fries / P_fries\n",
    "\n",
    "P_burger_given_fries"
   ]
  },
  {
   "cell_type": "markdown",
   "id": "3a6f4a27",
   "metadata": {},
   "source": [
    "## Bayes' Theorem"
   ]
  },
  {
   "cell_type": "markdown",
   "id": "d5598202",
   "metadata": {},
   "source": [
    "Vera examined a random sample of deodorants distributed by her company. She found the following probabilities."
   ]
  },
  {
   "cell_type": "code",
   "execution_count": 64,
   "id": "97b14a62",
   "metadata": {},
   "outputs": [],
   "source": [
    "P_forMen = 0.55"
   ]
  },
  {
   "cell_type": "code",
   "execution_count": 65,
   "id": "8e76b2c6",
   "metadata": {},
   "outputs": [],
   "source": [
    "P_botanicScent = 0.18"
   ]
  },
  {
   "cell_type": "code",
   "execution_count": 67,
   "id": "441ab6df",
   "metadata": {},
   "outputs": [],
   "source": [
    "P_botanic_given_forMen = 1/11"
   ]
  },
  {
   "cell_type": "markdown",
   "id": "18920f97",
   "metadata": {},
   "source": [
    "Find the probability that a deodorant is for men, given that it has a botanic scent.\n",
    "\n"
   ]
  },
  {
   "cell_type": "code",
   "execution_count": 68,
   "id": "c5adad03",
   "metadata": {},
   "outputs": [],
   "source": [
    "P_forMen_given_botanic = (P_forMen * P_botanic_given_forMen) / (P_botanicScent)"
   ]
  },
  {
   "cell_type": "code",
   "execution_count": 69,
   "id": "c668cd16",
   "metadata": {},
   "outputs": [
    {
     "data": {
      "text/plain": [
       "0.2777777777777778"
      ]
     },
     "execution_count": 69,
     "metadata": {},
     "output_type": "execute_result"
    }
   ],
   "source": [
    "P_forMen_given_botanic  # verilen bilgilerden erkek olma olasılığı"
   ]
  },
  {
   "cell_type": "code",
   "execution_count": null,
   "id": "afc01bae",
   "metadata": {},
   "outputs": [],
   "source": []
  }
 ],
 "metadata": {
  "kernelspec": {
   "display_name": "Python 3",
   "language": "python",
   "name": "python3"
  },
  "language_info": {
   "codemirror_mode": {
    "name": "ipython",
    "version": 3
   },
   "file_extension": ".py",
   "mimetype": "text/x-python",
   "name": "python",
   "nbconvert_exporter": "python",
   "pygments_lexer": "ipython3",
   "version": "3.8.8"
  }
 },
 "nbformat": 4,
 "nbformat_minor": 5
}

{
 "cells": [
  {
   "cell_type": "code",
   "execution_count": 72,
   "id": "1a2bb6de",
   "metadata": {},
   "outputs": [],
   "source": [
    "import numpy as np\n",
    "import pandas as pd\n",
    "import seaborn as sns\n",
    "import matplotlib.pyplot as plt"
   ]
  },
  {
   "cell_type": "code",
   "execution_count": 73,
   "id": "76f5a4a2",
   "metadata": {},
   "outputs": [
    {
     "data": {
      "text/html": [
       "<div>\n",
       "<style scoped>\n",
       "    .dataframe tbody tr th:only-of-type {\n",
       "        vertical-align: middle;\n",
       "    }\n",
       "\n",
       "    .dataframe tbody tr th {\n",
       "        vertical-align: top;\n",
       "    }\n",
       "\n",
       "    .dataframe thead th {\n",
       "        text-align: right;\n",
       "    }\n",
       "</style>\n",
       "<table border=\"1\" class=\"dataframe\">\n",
       "  <thead>\n",
       "    <tr style=\"text-align: right;\">\n",
       "      <th></th>\n",
       "      <th>country</th>\n",
       "      <th>date</th>\n",
       "      <th>daily_vaccinations</th>\n",
       "      <th>vaccines</th>\n",
       "    </tr>\n",
       "  </thead>\n",
       "  <tbody>\n",
       "    <tr>\n",
       "      <th>0</th>\n",
       "      <td>Argentina</td>\n",
       "      <td>12/29/2020</td>\n",
       "      <td>NaN</td>\n",
       "      <td>Sputnik V</td>\n",
       "    </tr>\n",
       "    <tr>\n",
       "      <th>1</th>\n",
       "      <td>Argentina</td>\n",
       "      <td>12/30/2020</td>\n",
       "      <td>15656.0</td>\n",
       "      <td>Sputnik V</td>\n",
       "    </tr>\n",
       "    <tr>\n",
       "      <th>2</th>\n",
       "      <td>Argentina</td>\n",
       "      <td>12/31/2020</td>\n",
       "      <td>15656.0</td>\n",
       "      <td>Sputnik V</td>\n",
       "    </tr>\n",
       "    <tr>\n",
       "      <th>3</th>\n",
       "      <td>Argentina</td>\n",
       "      <td>1/1/2021</td>\n",
       "      <td>11070.0</td>\n",
       "      <td>Sputnik V</td>\n",
       "    </tr>\n",
       "    <tr>\n",
       "      <th>4</th>\n",
       "      <td>Argentina</td>\n",
       "      <td>1/2/2021</td>\n",
       "      <td>8776.0</td>\n",
       "      <td>Sputnik V</td>\n",
       "    </tr>\n",
       "  </tbody>\n",
       "</table>\n",
       "</div>"
      ],
      "text/plain": [
       "     country        date  daily_vaccinations   vaccines\n",
       "0  Argentina  12/29/2020                 NaN  Sputnik V\n",
       "1  Argentina  12/30/2020             15656.0  Sputnik V\n",
       "2  Argentina  12/31/2020             15656.0  Sputnik V\n",
       "3  Argentina    1/1/2021             11070.0  Sputnik V\n",
       "4  Argentina    1/2/2021              8776.0  Sputnik V"
      ]
     },
     "execution_count": 73,
     "metadata": {},
     "output_type": "execute_result"
    }
   ],
   "source": [
    "df = pd.read_csv(\"daily_vaccination.csv\")\n",
    "\n",
    "df.head()"
   ]
  },
  {
   "cell_type": "markdown",
   "id": "082d46cb",
   "metadata": {},
   "source": [
    "## Task - 4 \n",
    "Code Implementation Task: Implement code to fill the missing data (impute) in daily_vaccinations column per country with the minimum daily vaccination number of relevant countries.  \n",
    "Note: If a country does not have any valid vaccination number yet, fill it with “0” (zero). \n",
    "Please  provide the link to your code as answer to this question"
   ]
  },
  {
   "cell_type": "code",
   "execution_count": 74,
   "id": "a82b154b",
   "metadata": {},
   "outputs": [
    {
     "data": {
      "text/plain": [
       "Northern Ireland        43\n",
       "Wales                   43\n",
       "Scotland                43\n",
       "Canada                  43\n",
       "Israel                  38\n",
       "China                   37\n",
       "United States           37\n",
       "England                 36\n",
       "United Kingdom          36\n",
       "Mexico                  33\n",
       "Chile                   33\n",
       "Lithuania               32\n",
       "Russia                  30\n",
       "Italy                   30\n",
       "Denmark                 30\n",
       "Czechia                 30\n",
       "Switzerland             30\n",
       "Portugal                29\n",
       "Norway                  29\n",
       "Latvia                  29\n",
       "Bahrain                 29\n",
       "Estonia                 29\n",
       "Germany                 29\n",
       "Greece                  29\n",
       "Romania                 29\n",
       "Argentina               28\n",
       "Hungary                 28\n",
       "Malta                   28\n",
       "Poland                  28\n",
       "Bulgaria                28\n",
       "Oman                    28\n",
       "Croatia                 27\n",
       "Iceland                 27\n",
       "Belgium                 26\n",
       "Luxembourg              26\n",
       "Costa Rica              26\n",
       "Finland                 26\n",
       "Ireland                 25\n",
       "Slovenia                22\n",
       "France                  22\n",
       "Spain                   22\n",
       "Sweden                  22\n",
       "United Arab Emirates    21\n",
       "Austria                 20\n",
       "Slovakia                18\n",
       "Serbia                  18\n",
       "Netherlands             17\n",
       "Cyprus                  17\n",
       "Seychelles              15\n",
       "Gibraltar               15\n",
       "Indonesia               14\n",
       "Turkey                  13\n",
       "Saudi Arabia            12\n",
       "Singapore               12\n",
       "India                   11\n",
       "Brazil                  10\n",
       "Panama                   6\n",
       "Isle of Man              5\n",
       "Ecuador                  2\n",
       "Kuwait                   1\n",
       "Name: country, dtype: int64"
      ]
     },
     "execution_count": 74,
     "metadata": {},
     "output_type": "execute_result"
    }
   ],
   "source": [
    "df.country.value_counts()"
   ]
  },
  {
   "cell_type": "code",
   "execution_count": 75,
   "id": "0a74eef5",
   "metadata": {},
   "outputs": [
    {
     "data": {
      "text/plain": [
       "country\n",
       "Argentina                 6483.0\n",
       "Austria                   3368.0\n",
       "Bahrain                    943.0\n",
       "Belgium                      1.0\n",
       "Brazil                     112.0\n",
       "Bulgaria                   472.0\n",
       "Canada                     866.0\n",
       "Chile                       51.0\n",
       "China                   187500.0\n",
       "Costa Rica                 240.0\n",
       "Croatia                    989.0\n",
       "Cyprus                     534.0\n",
       "Czechia                   1822.0\n",
       "Denmark                   1994.0\n",
       "Ecuador                    108.0\n",
       "England                  37625.0\n",
       "Estonia                    309.0\n",
       "Finland                    459.0\n",
       "France                    5000.0\n",
       "Germany                  19721.0\n",
       "Gibraltar                  520.0\n",
       "Greece                     549.0\n",
       "Hungary                   1339.0\n",
       "Iceland                     63.0\n",
       "India                   112150.0\n",
       "Indonesia                11823.0\n",
       "Ireland                    550.0\n",
       "Isle of Man                 90.0\n",
       "Israel                    6887.0\n",
       "Italy                      926.0\n",
       "Kuwait                       NaN\n",
       "Latvia                     338.0\n",
       "Lithuania                  311.0\n",
       "Luxembourg                  62.0\n",
       "Malta                      259.0\n",
       "Mexico                    1300.0\n",
       "Netherlands               4000.0\n",
       "Northern Ireland          1563.0\n",
       "Norway                     224.0\n",
       "Oman                       817.0\n",
       "Panama                       6.0\n",
       "Poland                    4300.0\n",
       "Portugal                  2791.0\n",
       "Romania                    712.0\n",
       "Russia                    3357.0\n",
       "Saudi Arabia             14153.0\n",
       "Scotland                  3047.0\n",
       "Serbia                    1150.0\n",
       "Seychelles                 500.0\n",
       "Singapore                 2800.0\n",
       "Slovakia                   425.0\n",
       "Slovenia                  1270.0\n",
       "Spain                    41496.0\n",
       "Sweden                    3859.0\n",
       "Switzerland               3000.0\n",
       "Turkey                   67192.0\n",
       "United Arab Emirates     30698.0\n",
       "United Kingdom           46423.0\n",
       "United States            57909.0\n",
       "Wales                     1763.0\n",
       "Name: daily_vaccinations, dtype: float64"
      ]
     },
     "execution_count": 75,
     "metadata": {},
     "output_type": "execute_result"
    }
   ],
   "source": [
    "df.groupby(\"country\").min()[\"daily_vaccinations\"]"
   ]
  },
  {
   "cell_type": "code",
   "execution_count": 76,
   "id": "5fbdbd74",
   "metadata": {},
   "outputs": [
    {
     "data": {
      "text/plain": [
       "country                          Oman\n",
       "date                       12/28/2020\n",
       "daily_vaccinations                NaN\n",
       "vaccines              Pfizer/BioNTech\n",
       "Name: 988, dtype: object"
      ]
     },
     "execution_count": 76,
     "metadata": {},
     "output_type": "execute_result"
    }
   ],
   "source": [
    "df.iloc[988] # take sample"
   ]
  },
  {
   "cell_type": "code",
   "execution_count": 77,
   "id": "e721cb58",
   "metadata": {},
   "outputs": [
    {
     "data": {
      "text/plain": [
       "country                0\n",
       "date                   0\n",
       "daily_vaccinations    60\n",
       "vaccines               0\n",
       "dtype: int64"
      ]
     },
     "execution_count": 77,
     "metadata": {},
     "output_type": "execute_result"
    }
   ],
   "source": [
    "df.isnull().sum()  # total isnull control"
   ]
  },
  {
   "cell_type": "code",
   "execution_count": 78,
   "id": "23f97151",
   "metadata": {},
   "outputs": [],
   "source": [
    "df['daily_vaccinations'].fillna(df.groupby(\"country\")[\"daily_vaccinations\"].transform('min'), inplace=True)"
   ]
  },
  {
   "cell_type": "code",
   "execution_count": 79,
   "id": "d1cc686a",
   "metadata": {},
   "outputs": [
    {
     "data": {
      "text/plain": [
       "country               0\n",
       "date                  0\n",
       "daily_vaccinations    1\n",
       "vaccines              0\n",
       "dtype: int64"
      ]
     },
     "execution_count": 79,
     "metadata": {},
     "output_type": "execute_result"
    }
   ],
   "source": [
    "df.isnull().sum()  # total isnull control (after implement)"
   ]
  },
  {
   "cell_type": "code",
   "execution_count": 80,
   "id": "8606e7cb",
   "metadata": {},
   "outputs": [
    {
     "data": {
      "text/plain": [
       "country                          Oman\n",
       "date                       12/28/2020\n",
       "daily_vaccinations              817.0\n",
       "vaccines              Pfizer/BioNTech\n",
       "Name: 988, dtype: object"
      ]
     },
     "execution_count": 80,
     "metadata": {},
     "output_type": "execute_result"
    }
   ],
   "source": [
    "df.iloc[988]  # same sample control"
   ]
  },
  {
   "cell_type": "code",
   "execution_count": 84,
   "id": "c1d73796",
   "metadata": {},
   "outputs": [],
   "source": [
    "df.fillna(0, inplace=True)  # Kuwait null fill with 0"
   ]
  },
  {
   "cell_type": "code",
   "execution_count": 88,
   "id": "a4899bf9",
   "metadata": {},
   "outputs": [
    {
     "data": {
      "text/plain": [
       "0.0"
      ]
     },
     "execution_count": 88,
     "metadata": {},
     "output_type": "execute_result"
    }
   ],
   "source": [
    "df.groupby(\"country\").min()[\"daily_vaccinations\"][\"Kuwait\"]  # Kuwait null filled with 0"
   ]
  },
  {
   "cell_type": "code",
   "execution_count": 85,
   "id": "af1778b9",
   "metadata": {},
   "outputs": [
    {
     "data": {
      "text/plain": [
       "country               0\n",
       "date                  0\n",
       "daily_vaccinations    0\n",
       "vaccines              0\n",
       "dtype: int64"
      ]
     },
     "execution_count": 85,
     "metadata": {},
     "output_type": "execute_result"
    }
   ],
   "source": [
    "df.isnull().sum()"
   ]
  },
  {
   "cell_type": "markdown",
   "id": "749898ca",
   "metadata": {},
   "source": [
    "# Task - 5\n",
    "Code Implementation Task: Implement code to list the top-3 countries with highest median daily vaccination numbers by considering missing values imputed version of dataset.\n",
    "Please  provide the link to your code as answer to this question"
   ]
  },
  {
   "cell_type": "code",
   "execution_count": 89,
   "id": "02666ce0",
   "metadata": {},
   "outputs": [
    {
     "data": {
      "text/html": [
       "<div>\n",
       "<style scoped>\n",
       "    .dataframe tbody tr th:only-of-type {\n",
       "        vertical-align: middle;\n",
       "    }\n",
       "\n",
       "    .dataframe tbody tr th {\n",
       "        vertical-align: top;\n",
       "    }\n",
       "\n",
       "    .dataframe thead th {\n",
       "        text-align: right;\n",
       "    }\n",
       "</style>\n",
       "<table border=\"1\" class=\"dataframe\">\n",
       "  <thead>\n",
       "    <tr style=\"text-align: right;\">\n",
       "      <th></th>\n",
       "      <th>country</th>\n",
       "      <th>date</th>\n",
       "      <th>daily_vaccinations</th>\n",
       "      <th>vaccines</th>\n",
       "    </tr>\n",
       "  </thead>\n",
       "  <tbody>\n",
       "    <tr>\n",
       "      <th>0</th>\n",
       "      <td>Argentina</td>\n",
       "      <td>12/29/2020</td>\n",
       "      <td>6483.0</td>\n",
       "      <td>Sputnik V</td>\n",
       "    </tr>\n",
       "    <tr>\n",
       "      <th>1</th>\n",
       "      <td>Argentina</td>\n",
       "      <td>12/30/2020</td>\n",
       "      <td>15656.0</td>\n",
       "      <td>Sputnik V</td>\n",
       "    </tr>\n",
       "    <tr>\n",
       "      <th>2</th>\n",
       "      <td>Argentina</td>\n",
       "      <td>12/31/2020</td>\n",
       "      <td>15656.0</td>\n",
       "      <td>Sputnik V</td>\n",
       "    </tr>\n",
       "    <tr>\n",
       "      <th>3</th>\n",
       "      <td>Argentina</td>\n",
       "      <td>1/1/2021</td>\n",
       "      <td>11070.0</td>\n",
       "      <td>Sputnik V</td>\n",
       "    </tr>\n",
       "    <tr>\n",
       "      <th>4</th>\n",
       "      <td>Argentina</td>\n",
       "      <td>1/2/2021</td>\n",
       "      <td>8776.0</td>\n",
       "      <td>Sputnik V</td>\n",
       "    </tr>\n",
       "  </tbody>\n",
       "</table>\n",
       "</div>"
      ],
      "text/plain": [
       "     country        date  daily_vaccinations   vaccines\n",
       "0  Argentina  12/29/2020              6483.0  Sputnik V\n",
       "1  Argentina  12/30/2020             15656.0  Sputnik V\n",
       "2  Argentina  12/31/2020             15656.0  Sputnik V\n",
       "3  Argentina    1/1/2021             11070.0  Sputnik V\n",
       "4  Argentina    1/2/2021              8776.0  Sputnik V"
      ]
     },
     "execution_count": 89,
     "metadata": {},
     "output_type": "execute_result"
    }
   ],
   "source": [
    "df.head()"
   ]
  },
  {
   "cell_type": "code",
   "execution_count": 90,
   "id": "bd00d00d",
   "metadata": {},
   "outputs": [
    {
     "data": {
      "text/html": [
       "<div>\n",
       "<style scoped>\n",
       "    .dataframe tbody tr th:only-of-type {\n",
       "        vertical-align: middle;\n",
       "    }\n",
       "\n",
       "    .dataframe tbody tr th {\n",
       "        vertical-align: top;\n",
       "    }\n",
       "\n",
       "    .dataframe thead th {\n",
       "        text-align: right;\n",
       "    }\n",
       "</style>\n",
       "<table border=\"1\" class=\"dataframe\">\n",
       "  <thead>\n",
       "    <tr style=\"text-align: right;\">\n",
       "      <th></th>\n",
       "      <th>daily_vaccinations</th>\n",
       "    </tr>\n",
       "  </thead>\n",
       "  <tbody>\n",
       "    <tr>\n",
       "      <th>count</th>\n",
       "      <td>1.502000e+03</td>\n",
       "    </tr>\n",
       "    <tr>\n",
       "      <th>mean</th>\n",
       "      <td>4.208344e+04</td>\n",
       "    </tr>\n",
       "    <tr>\n",
       "      <th>std</th>\n",
       "      <td>1.145116e+05</td>\n",
       "    </tr>\n",
       "    <tr>\n",
       "      <th>min</th>\n",
       "      <td>0.000000e+00</td>\n",
       "    </tr>\n",
       "    <tr>\n",
       "      <th>25%</th>\n",
       "      <td>1.434000e+03</td>\n",
       "    </tr>\n",
       "    <tr>\n",
       "      <th>50%</th>\n",
       "      <td>5.412000e+03</td>\n",
       "    </tr>\n",
       "    <tr>\n",
       "      <th>75%</th>\n",
       "      <td>2.502400e+04</td>\n",
       "    </tr>\n",
       "    <tr>\n",
       "      <th>max</th>\n",
       "      <td>1.126251e+06</td>\n",
       "    </tr>\n",
       "  </tbody>\n",
       "</table>\n",
       "</div>"
      ],
      "text/plain": [
       "       daily_vaccinations\n",
       "count        1.502000e+03\n",
       "mean         4.208344e+04\n",
       "std          1.145116e+05\n",
       "min          0.000000e+00\n",
       "25%          1.434000e+03\n",
       "50%          5.412000e+03\n",
       "75%          2.502400e+04\n",
       "max          1.126251e+06"
      ]
     },
     "execution_count": 90,
     "metadata": {},
     "output_type": "execute_result"
    }
   ],
   "source": [
    "df.describe()"
   ]
  },
  {
   "cell_type": "code",
   "execution_count": 100,
   "id": "012c3baa",
   "metadata": {},
   "outputs": [
    {
     "data": {
      "text/plain": [
       "country\n",
       "United States    378253.0\n",
       "China            276786.0\n",
       "India            173922.0\n",
       "Name: daily_vaccinations, dtype: float64"
      ]
     },
     "execution_count": 100,
     "metadata": {},
     "output_type": "execute_result"
    }
   ],
   "source": [
    "top3_countries = df.groupby(\"country\")[\"daily_vaccinations\"].median().sort_values(ascending=False)[:3]\n",
    "\n",
    "top3_countries"
   ]
  }
 ],
 "metadata": {
  "kernelspec": {
   "display_name": "Python 3",
   "language": "python",
   "name": "python3"
  },
  "language_info": {
   "codemirror_mode": {
    "name": "ipython",
    "version": 3
   },
   "file_extension": ".py",
   "mimetype": "text/x-python",
   "name": "python",
   "nbconvert_exporter": "python",
   "pygments_lexer": "ipython3",
   "version": "3.8.8"
  }
 },
 "nbformat": 4,
 "nbformat_minor": 5
}
